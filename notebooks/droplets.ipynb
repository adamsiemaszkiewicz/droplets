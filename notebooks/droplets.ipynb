{
 "cells": [
  {
   "cell_type": "code",
   "execution_count": null,
   "id": "61f4306d-c729-486c-b665-51fac2661193",
   "metadata": {},
   "outputs": [],
   "source": [
    "import sys\n",
    "\n",
    "sys.path.append(\"../\")\n",
    "\n",
    "import random\n",
    "\n",
    "import matplotlib.image as mpimg\n",
    "import matplotlib.pyplot as plt\n",
    "import pandas as pd\n",
    "from sklearn.model_selection import train_test_split\n",
    "\n",
    "from src import consts"
   ]
  },
  {
   "cell_type": "code",
   "execution_count": null,
   "id": "90741ae0-cb81-4f4b-a416-dd7f0363c558",
   "metadata": {},
   "outputs": [],
   "source": [
    "SEED = 42\n",
    "\n",
    "df = pd.read_feather(consts.DATA_DIR / \"dataset_2022-12-27.feather\")\n",
    "# Split the dataset into train and test sets\n",
    "x_train, x_test = train_test_split(df, test_size=0.2, random_state=SEED, stratify=df[\"name\"])\n",
    "\n",
    "# Split the train set into train and validation sets\n",
    "x_val, x_test = train_test_split(x_test, test_size=0.5, random_state=SEED, stratify=x_test[\"name\"])\n",
    "\n",
    "df.loc[x_train.index, \"train\"] = True\n",
    "df.loc[x_val.index, \"val\"] = True\n",
    "df.loc[x_test.index, \"test\"] = True\n",
    "\n",
    "df.fillna(False, inplace=True)\n",
    "\n",
    "df.to_feather(consts.DATA_DIR / \"dataset_2022-12-27_split.feather\")"
   ]
  },
  {
   "cell_type": "code",
   "execution_count": null,
   "id": "9fa27c53-b360-4f14-a8df-f0744c8c8404",
   "metadata": {},
   "outputs": [],
   "source": [
    "n = random.randint(0, len(df))\n",
    "fp = consts.DATA_DIR / df[\"filepath\"][n]\n",
    "\n",
    "# Load image into a variable\n",
    "img = mpimg.imread(fp)\n",
    "\n",
    "# Show image using imshow()\n",
    "plt.imshow(img)\n",
    "\n",
    "# Remove axis values\n",
    "plt.axis(\"off\")\n",
    "\n",
    "# Display the plot\n",
    "plt.show()"
   ]
  }
 ],
 "metadata": {
  "kernelspec": {
   "display_name": "Python 3 (ipykernel)",
   "language": "python",
   "name": "python3"
  },
  "language_info": {
   "codemirror_mode": {
    "name": "ipython",
    "version": 3
   },
   "file_extension": ".py",
   "mimetype": "text/x-python",
   "name": "python",
   "nbconvert_exporter": "python",
   "pygments_lexer": "ipython3",
   "version": "3.8.16"
  }
 },
 "nbformat": 4,
 "nbformat_minor": 5
}
